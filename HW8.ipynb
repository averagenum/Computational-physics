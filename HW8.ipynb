{
 "cells": [
  {
   "cell_type": "code",
   "execution_count": 2,
   "id": "62568bb2",
   "metadata": {
    "scrolled": true
   },
   "outputs": [
    {
     "name": "stdout",
     "output_type": "stream",
     "text": [
      "[1 1 1]—>[1 1 1]\n",
      "[2 2 2]—>[2 2 2]\n",
      "Minimum image distance = 1.7320508075688772\n",
      "Lennard-Jones Potential = -0.14266117969821684\n",
      "\n",
      "[1 1 1]—>[1 1 1]\n",
      "[1 1 9]—>[1 1 9]\n",
      "Minimum image distance = 2.0\n",
      "Lennard-Jones Potential = -0.0615234375\n",
      "\n",
      "[1 1 1]—>[1 1 1]\n",
      "[9 9 9]—>[9 9 9]\n",
      "Minimum image distance = 3.4641016151377544\n",
      "Lennard-Jones Potential = -0.0023134752229080954\n",
      "\n"
     ]
    }
   ],
   "source": [
    "import numpy as np\n",
    "\n",
    "Lx, Ly, Lz =10, 10, 10\n",
    "epsilon =1.\n",
    "sigma = 1.\n",
    "\n",
    "#转算坐标到reference box\n",
    "def wrap(r,Lx,Ly,Lz):\n",
    "    wrapped_r = np.array([r[0]%Lx,r[1]%Ly,r[2]%Lz])\n",
    "    return wrapped_r\n",
    "\n",
    "#minimum image distance\n",
    "def MI_distance(r1,r2,Lx,Ly,Lz):\n",
    "    delta = r1-r2\n",
    "    #print(delta)\n",
    "    #归一化到(-L/2, L/2]范围\n",
    "    delta[0] -=np.round(delta[0]/Lx)*Lx\n",
    "    delta[1] -=np.round(delta[1]/Ly)*Ly\n",
    "    delta[2] -=np.round(delta[2]/Lz)*Lz\n",
    "    #print(delta)\n",
    "    distance = np.sqrt(np.sum(delta**2))\n",
    "    return distance\n",
    "\n",
    "def LJ(r,epsilon ,sigma):\n",
    "    return 4*epsilon*((sigma/r)**12-(sigma/r)**6)\n",
    "\n",
    "particles = [(np.array([1, 1, 1]), np.array([2, 2, 2])),(np.array([1, 1, 1]), np.array([1, 1, 9])),(np.array([1, 1, 1]), np.array([9, 9, 9]))]\n",
    "\n",
    "for a, b in particles:\n",
    "    new_a = wrap(a,Lx,Ly,Lz)\n",
    "    new_b = wrap(b,Lx,Ly,Lz)\n",
    "    distance = MI_distance(a,b,Lx,Ly,Lz)\n",
    "    lj = LJ(distance,epsilon,sigma)\n",
    "    print(f\"{a}—>{new_a}\")\n",
    "    print(f\"{b}—>{new_b}\")\n",
    "    print(f\"Minimum image distance = {distance}\")\n",
    "    print(f\"Lennard-Jones Potential = {lj}\\n\")\n",
    "    \n"
   ]
  },
  {
   "cell_type": "code",
   "execution_count": null,
   "id": "3b379b21",
   "metadata": {},
   "outputs": [],
   "source": []
  }
 ],
 "metadata": {
  "kernelspec": {
   "display_name": "Python 3 (ipykernel)",
   "language": "python",
   "name": "python3"
  },
  "language_info": {
   "codemirror_mode": {
    "name": "ipython",
    "version": 3
   },
   "file_extension": ".py",
   "mimetype": "text/x-python",
   "name": "python",
   "nbconvert_exporter": "python",
   "pygments_lexer": "ipython3",
   "version": "3.11.4"
  }
 },
 "nbformat": 4,
 "nbformat_minor": 5
}
