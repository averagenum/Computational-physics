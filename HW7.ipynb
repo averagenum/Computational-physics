{
 "cells": [
  {
   "cell_type": "code",
   "execution_count": 190,
   "id": "73a278ce",
   "metadata": {},
   "outputs": [],
   "source": [
    "import numpy as np\n",
    "import matplotlib.pyplot as plt"
   ]
  },
  {
   "cell_type": "code",
   "execution_count": 191,
   "id": "ef2d1a55",
   "metadata": {},
   "outputs": [
    {
     "data": {
      "image/png": "[encoded data removed]",
      "text/plain": [
       "<Figure size 500x500 with 1 Axes>"
      ]
     },
     "metadata": {},
     "output_type": "display_data"
    }
   ],
   "source": [
    "plt.figure(figsize=(5, 5), dpi=100)\n",
    "plt.plot([0, 0], [0, 1], color='blue')\n",
    "plt.plot([1, 0], [0, 0], color='blue')\n",
    "plt.plot([1/2, 1/2], [0, 1/2], color='blue')\n",
    "plt.plot([0, 1/2], [1/2, 1/2], color='blue')\n",
    "plt.plot([0, 1/2], [1/2, 0], color='blue')\n",
    "plt.plot([0, 1], [1, 0], color='blue')\n",
    "plt.show()"
   ]
  },
  {
   "cell_type": "code",
   "execution_count": 1,
   "id": "3ef2764c",
   "metadata": {},
   "outputs": [
    {
     "ename": "NameError",
     "evalue": "name 'np' is not defined",
     "output_type": "error",
     "traceback": [
      "\u001b[1;31m---------------------------------------------------------------------------\u001b[0m",
      "\u001b[1;31mNameError\u001b[0m                                 Traceback (most recent call last)",
      "Cell \u001b[1;32mIn[1], line 9\u001b[0m\n\u001b[0;32m      6\u001b[0m h \u001b[38;5;241m=\u001b[39m \u001b[38;5;241m0.01\u001b[39m\n\u001b[0;32m      8\u001b[0m \u001b[38;5;66;03m# 每一个点的坐标\u001b[39;00m\n\u001b[1;32m----> 9\u001b[0m x \u001b[38;5;241m=\u001b[39m np\u001b[38;5;241m.\u001b[39marange(x_range[\u001b[38;5;241m0\u001b[39m], x_range[\u001b[38;5;241m1\u001b[39m]\u001b[38;5;241m+\u001b[39mh, h)\n\u001b[0;32m     10\u001b[0m y \u001b[38;5;241m=\u001b[39m np\u001b[38;5;241m.\u001b[39marange(y_range[\u001b[38;5;241m0\u001b[39m], y_range[\u001b[38;5;241m1\u001b[39m]\u001b[38;5;241m+\u001b[39mh, h)\n\u001b[0;32m     11\u001b[0m \u001b[38;5;66;03m#print(x)\u001b[39;00m\n\u001b[0;32m     12\u001b[0m \u001b[38;5;66;03m# 格点数目\u001b[39;00m\n",
      "\u001b[1;31mNameError\u001b[0m: name 'np' is not defined"
     ]
    }
   ],
   "source": [
    "\n",
    "# 求解区域的范围\n",
    "x_range = [0.0, 1.0]\n",
    "y_range = [0.0, 1.0]\n",
    "\n",
    "# 划分的步长\n",
    "h = 0.01\n",
    "\n",
    "# 每一个点的坐标\n",
    "x = np.arange(x_range[0], x_range[1]+h, h)\n",
    "y = np.arange(y_range[0], y_range[1]+h, h)\n",
    "#print(x)\n",
    "# 格点数目\n",
    "x_n_grid = len(x)\n",
    "y_n_grid = len(y)\n",
    "#print(x_n_grid)\n",
    "# 边界点和求解区域，边界点标记为True，待求点标记为False\n",
    "area = []\n",
    "for i in range(x_n_grid):\n",
    "    #print(i)\n",
    "    area.append(np.zeros(x_n_grid-i))\n",
    "for i in range(x_n_grid):\n",
    "    for j in range(y_n_grid):\n",
    "        if (i==0)or(j==0)or(i*h+j*h == 1):\n",
    "            area[i][j] = 1\n",
    "        \n",
    "#print(area)"
   ]
  },
  {
   "cell_type": "code",
   "execution_count": 193,
   "id": "fa6c6e41",
   "metadata": {},
   "outputs": [],
   "source": [
    "# 建立编号矩阵，其中的每一个编号对应区域中的一个节点\n",
    "index_matrix = []\n",
    "k = 0\n",
    "for i in range(x_n_grid):\n",
    "    #print(i)\n",
    "    index_matrix.append(np.zeros(x_n_grid-i,dtype=int))\n",
    "    \n",
    "# 先对内部节点编号\n",
    "for i in range(x_n_grid):\n",
    "    for j in range(y_n_grid-i):\n",
    "        if not area[i][j]:\n",
    "            index_matrix[i][j] = k\n",
    "            k += 1\n",
    "            \n",
    "# 内部节点数            \n",
    "n_inner = k\n",
    "\n",
    "# 然后对边界节点编号\n",
    "for i in range(x_n_grid):\n",
    "    for j in range(y_n_grid-i):\n",
    "        if area[i][j]:\n",
    "            index_matrix[i][j] = k\n",
    "            k += 1\n",
    "\n",
    "# 边界节点数        \n",
    "n_edge = k - n_inner\n",
    "          \n",
    "#print(index_matrix)"
   ]
  },
  {
   "cell_type": "code",
   "execution_count": 194,
   "id": "0692ec2d",
   "metadata": {},
   "outputs": [
    {
     "name": "stdout",
     "output_type": "stream",
     "text": [
      "10000\n"
     ]
    }
   ],
   "source": [
    "class element:\n",
    "    def __init__(self, index_list, x_list, y_list):\n",
    "        # 记录三角形元素的三个节点编号和坐标\n",
    "        self.index = index_list\n",
    "        self.x = x_list\n",
    "        self.y = y_list\n",
    "        # 计算三角形元素的b和c\n",
    "        self.b = [self.y[(i+1)%3]-self.y[(i+2)%3] for i in range(3)]\n",
    "        self.c = [self.x[(i+2)%3]-self.x[(i+1)%3] for i in range(3)]\n",
    "\n",
    "e_list = []\n",
    "\n",
    "for i in range(x_n_grid-1):\n",
    "    for j in range(1, x_n_grid-i):\n",
    "        #print(i,j)\n",
    "        e_list.append(\n",
    "            element(\n",
    "                index_list=[index_matrix[i][j], index_matrix[i][j-1], index_matrix[i+1][j-1]],\n",
    "                x_list=[x[i], x[i], x[i+1]],\n",
    "                y_list=[y[j], y[j-1], y[j-1]]\n",
    "            )\n",
    "        )\n",
    "        if (i+j+1<=x_n_grid-1):\n",
    "            \n",
    "            e_list.append(\n",
    "                element(\n",
    "                    index_list=[index_matrix[i][j], index_matrix[i+1][j-1], index_matrix[i+1][j]],\n",
    "                    x_list=[x[i], x[i+1], x[i+1]],\n",
    "                    y_list=[y[j], y[j-1], y[j]]\n",
    "                )\n",
    "            )\n",
    "print(len(e_list))"
   ]
  },
  {
   "cell_type": "code",
   "execution_count": 195,
   "id": "6e0c8d9c",
   "metadata": {},
   "outputs": [
    {
     "name": "stdout",
     "output_type": "stream",
     "text": [
      "[[ 4.  -1.   0.  ...  0.   0.   0. ]\n",
      " [-1.   4.  -1.  ...  0.   0.   0. ]\n",
      " [ 0.  -1.   4.  ...  0.   0.   0. ]\n",
      " ...\n",
      " [ 0.   0.   0.  ...  2.  -1.  -0.5]\n",
      " [ 0.   0.   0.  ... -1.   2.   0. ]\n",
      " [ 0.   0.   0.  ... -0.5  0.   0.5]]\n"
     ]
    }
   ],
   "source": [
    "Delta = (x_range[1] - x_range[0])*(y_range[1] - y_range[0])/len(e_list)/2\n",
    "\n",
    "K = np.zeros((n_inner + n_edge, n_inner + n_edge))\n",
    "\n",
    "for e in e_list:\n",
    "    for i in range(3):\n",
    "        for j in range(i,3):\n",
    "            K[e.index[i], e.index[j]] += (e.b[i]*e.b[j] + e.c[i]*e.c[j])/4/Delta\n",
    "# 根据对称性补全K矩阵\n",
    "K += K.T - np.diag(np.diag(K))\n",
    "print(K)"
   ]
  },
  {
   "cell_type": "code",
   "execution_count": 196,
   "id": "26a56663",
   "metadata": {},
   "outputs": [],
   "source": [
    "#边界条件（题目有问题吧，在（1，0）（0，0）处条件矛盾\n",
    "K_11 = K[:n_inner, :n_inner]\n",
    "K_12 = K[:n_inner, n_inner:]\n",
    "Phi_2 = np.ones((n_edge,1))\n",
    "for i in range(x_n_grid-1):\n",
    "    #print(x_n_grid+2*i)\n",
    "    Phi_2[x_n_grid+2*i] = [0]\n",
    "Phi_2[0]=[0]\n",
    "#print(Phi_2)"
   ]
  },
  {
   "cell_type": "code",
   "execution_count": 197,
   "id": "51418ebe",
   "metadata": {},
   "outputs": [
    {
     "data": {
      "image/png": "[encoded data removed]",
      "text/plain": [
       "<Figure size 1000x1000 with 1 Axes>"
      ]
     },
     "metadata": {},
     "output_type": "display_data"
    }
   ],
   "source": [
    "A = K_11\n",
    "b = -K_12.dot(Phi_2)\n",
    "\n",
    "plt.figure(figsize=(10, 10), dpi=100)\n",
    "plt.imshow(A)\n",
    "plt.show()"
   ]
  },
  {
   "cell_type": "code",
   "execution_count": 198,
   "id": "d4d4d0ae",
   "metadata": {},
   "outputs": [
    {
     "name": "stdout",
     "output_type": "stream",
     "text": [
      "Converges in 1096 steps\n"
     ]
    }
   ],
   "source": [
    "# 上面的公式中，大部分k_ij都等于0\n",
    "# 只需要计算k_ij不为0的部分\n",
    "# 因此先记录k_ij不为0的编号\n",
    "k_ij_index = []\n",
    "for i in range(n_inner):\n",
    "    k_ij_index.append([])\n",
    "    for j in range(n_inner+n_edge):\n",
    "        if K[i, j] != 0 and i != j:\n",
    "            k_ij_index[-1].append(j)\n",
    "            \n",
    "omega = 1.5\n",
    "\n",
    "# 迭代初值，包含内部节点和边界节点\n",
    "# 在矩阵运算中Phi是一个列向量\n",
    "# 在迭代公式中，使用行向量更加简单\n",
    "# 所以使用行向量记录Phi的每一个值\n",
    "X = np.hstack((np.ones(n_inner), Phi_2.T[0]))\n",
    "X0 = X.copy()\n",
    "\n",
    "# 迭代时只改变内部节点\n",
    "for i in range(n_inner):\n",
    "    X[i] = (1-omega)*X[i]\n",
    "    a = omega/K[i, i]\n",
    "    for j in k_ij_index[i]:\n",
    "        X[i] -= a*K[i, j]*X[j]\n",
    "\n",
    "m = 1\n",
    "\n",
    "while np.max(abs(X-X0)) > 1e-6:\n",
    "    X0 = X.copy()\n",
    "    for i in range(n_inner):\n",
    "        X[i] = (1-omega)*X[i]\n",
    "        a = omega/K[i, i]\n",
    "        for j in k_ij_index[i]:\n",
    "            X[i] -= a*K[i, j]*X[j]\n",
    "    m += 1\n",
    "    \n",
    "print(\"Converges in %d steps\"%m)"
   ]
  },
  {
   "cell_type": "code",
   "execution_count": 199,
   "id": "f063a070",
   "metadata": {},
   "outputs": [
    {
     "data": {
      "image/png": "[encoded data removed]",
      "text/plain": [
       "<Figure size 500x500 with 1 Axes>"
      ]
     },
     "metadata": {},
     "output_type": "display_data"
    }
   ],
   "source": [
    "Phi = X.copy()\n",
    "\n",
    "value_matrix = np.zeros((x_n_grid, y_n_grid))\n",
    "\n",
    "# 将解填入求解区域中\n",
    "for i in range(x_n_grid):\n",
    "    for j in range(y_n_grid-i):\n",
    "        value_matrix[i, j] = Phi[index_matrix[i][j]]\n",
    "\n",
    "fig = plt.figure(figsize=(5, 5), dpi=100)\n",
    "plt.contourf(x, y, value_matrix.T)\n",
    "plt.show()"
   ]
  },
  {
   "cell_type": "code",
   "execution_count": null,
   "id": "7f954fe0",
   "metadata": {},
   "outputs": [],
   "source": []
  }
 ],
 "metadata": {
  "kernelspec": {
   "display_name": "Python 3 (ipykernel)",
   "language": "python",
   "name": "python3"
  },
  "language_info": {
   "codemirror_mode": {
    "name": "ipython",
    "version": 3
   },
   "file_extension": ".py",
   "mimetype": "text/x-python",
   "name": "python",
   "nbconvert_exporter": "python",
   "pygments_lexer": "ipython3",
   "version": "3.11.4"
  }
 },
 "nbformat": 4,
 "nbformat_minor": 5
}
