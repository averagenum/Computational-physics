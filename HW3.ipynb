{
 "cells": [
  {
   "cell_type": "code",
   "execution_count": null,
   "id": "3390f31b",
   "metadata": {},
   "outputs": [],
   "source": [
    "import numpy as np\n",
    "import random\n",
    "import matplotlib.pyplot as plt\n",
    "\n",
    "N = 99999#采样点数\n",
    "delta = 1\n",
    "\n",
    "# 用于将试探点移动到定义域内\n",
    "def bc(x, b1, b2):\n",
    "    length = b2 - b1\n",
    "    if x < b1:\n",
    "        return bc(x+length, b1, b2)\n",
    "    if x > b2:\n",
    "        return bc(x-length, b1, b2)\n",
    "    return x\n",
    "\n",
    "\n",
    "def f(x):\n",
    "    return x*x*np.exp(-x)\n",
    "\n",
    "\n",
    "x_0 = 1e-5\n",
    "sample = []\n",
    "while len(sample)<=N:\n",
    "    x_1 = x_0+2*delta*random.random()-delta\n",
    "    x_1 = bc(x_1,0,4)\n",
    "    r = f(x_1)/f(x_0)\n",
    "    if r>random.random():\n",
    "        x_0 = x_1\n",
    "        sample.append(x_0)\n",
    "        continue\n",
    "    sample.append(x_0)\n",
    "\n",
    "integral_1 = 0\n",
    "for x in sample:\n",
    "    integral_1 += f(x)*4/len(sample)\n",
    "print(1/integral_1)\n",
    "\n",
    "x = np.linspace(0, 4, N)\n",
    "plt.plot(x, f(x)/1.523, label='normal distribution')\n",
    "plt.hist(sample, 100, density=True, color='red', label='samples distribution')\n",
    "plt.title('Metropolis')\n",
    "plt.xlabel('sample')\n",
    "plt.legend()\n",
    "plt.show()\n"
   ]
  },
  {
   "cell_type": "code",
   "execution_count": null,
   "id": "187bdf4a",
   "metadata": {},
   "outputs": [],
   "source": []
  }
 ],
 "metadata": {
  "kernelspec": {
   "display_name": "Python 3 (ipykernel)",
   "language": "python",
   "name": "python3"
  },
  "language_info": {
   "codemirror_mode": {
    "name": "ipython",
    "version": 3
   },
   "file_extension": ".py",
   "mimetype": "text/x-python",
   "name": "python",
   "nbconvert_exporter": "python",
   "pygments_lexer": "ipython3",
   "version": "3.11.4"
  }
 },
 "nbformat": 4,
 "nbformat_minor": 5
}
