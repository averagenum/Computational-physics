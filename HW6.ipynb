{
 "cells": [
  {
   "cell_type": "code",
   "execution_count": 1,
   "id": "2cd57546",
   "metadata": {},
   "outputs": [],
   "source": [
    "import numpy as np\n",
    "import matplotlib.pyplot as plt"
   ]
  },
  {
   "cell_type": "code",
   "execution_count": 3,
   "id": "b7ad4f80",
   "metadata": {},
   "outputs": [
    {
     "name": "stdout",
     "output_type": "stream",
     "text": [
      "[[ True  True  True ...  True  True  True]\n",
      " [ True False False ... False False  True]\n",
      " [ True False False ... False False  True]\n",
      " ...\n",
      " [ True False False ... False False  True]\n",
      " [ True False False ... False False  True]\n",
      " [ True  True  True ...  True  True  True]]\n"
     ]
    }
   ],
   "source": [
    "# 求解区域的范围\n",
    "x_range = [0.0, np.pi]\n",
    "y_range = [0.0, np.pi]\n",
    "\n",
    "h = np.pi/90\n",
    "\n",
    "#coordinate of each point\n",
    "x = np.arange(x_range[0],x_range[1]+h,h)\n",
    "y = np.arange(y_range[0], y_range[1]+h,h)\n",
    "\n",
    "#num of grid\n",
    "x_n_grid = len(x)\n",
    "y_n_grid = len(y)\n",
    "\n",
    "#Mark boundary point\n",
    "area = np.full(shape=(x_n_grid, y_n_grid), fill_value=True)\n",
    "area[1: -1, 1: -1] = np.full(shape=(x_n_grid-2, y_n_grid-2), fill_value=False)\n",
    "\n",
    "print(area)"
   ]
  },
  {
   "cell_type": "code",
   "execution_count": 14,
   "id": "a113058b",
   "metadata": {},
   "outputs": [
    {
     "name": "stdout",
     "output_type": "stream",
     "text": [
      "[[  -1   -1   -1 ...   -1   -1   -1]\n",
      " [  -1    0    1 ...   87   88   -1]\n",
      " [  -1   89   90 ...  176  177   -1]\n",
      " ...\n",
      " [  -1 7743 7744 ... 7830 7831   -1]\n",
      " [  -1 7832 7833 ... 7919 7920   -1]\n",
      " [  -1   -1   -1 ...   -1   -1   -1]]\n"
     ]
    }
   ],
   "source": [
    "#Build index matrix\n",
    "index_matrix = np.zeros((x_n_grid, y_n_grid), dtype=int)\n",
    "\n",
    "#boundary point = -1, points to be sought = numbered in sequence\n",
    "k = 0\n",
    "for i in range(x_n_grid):\n",
    "    for j in range(y_n_grid):\n",
    "        if area[i,j]:\n",
    "            index_matrix[i, j] = -1\n",
    "        else:\n",
    "            index_matrix[i, j] = k\n",
    "            k += 1\n",
    "size = k          \n",
    "print(index_matrix)"
   ]
  },
  {
   "cell_type": "code",
   "execution_count": 15,
   "id": "bfaa19d0",
   "metadata": {},
   "outputs": [
    {
     "name": "stdout",
     "output_type": "stream",
     "text": [
      "[[0.         0.         0.         ... 0.         0.         0.        ]\n",
      " [0.         0.         0.         ... 0.         0.         0.0348995 ]\n",
      " [0.         0.         0.         ... 0.         0.         0.06975647]\n",
      " ...\n",
      " [0.         0.         0.         ... 0.         0.         0.06975647]\n",
      " [0.         0.         0.         ... 0.         0.         0.0348995 ]\n",
      " [0.         0.         0.         ... 0.         0.         0.        ]]\n"
     ]
    }
   ],
   "source": [
    "#Boundary condition\n",
    "def edge_value(x, y):\n",
    "    if x == 0.0 or x == np.pi or y == 0.0:\n",
    "        return 0.0\n",
    "    if y == np.pi:\n",
    "        return np.sin(x)\n",
    "    \n",
    "#Build a function value matrix\n",
    "value_matrix = np.zeros(shape=(x_n_grid, y_n_grid))\n",
    "\n",
    "for i in range(x_n_grid):\n",
    "    for j in range(y_n_grid):\n",
    "        if area[i, j]:\n",
    "            value_matrix[i, j] = edge_value(x[i], y[j])\n",
    "            \n",
    "print(value_matrix)"
   ]
  },
  {
   "cell_type": "code",
   "execution_count": 16,
   "id": "442b6865",
   "metadata": {},
   "outputs": [
    {
     "name": "stdout",
     "output_type": "stream",
     "text": [
      "[[0. 0. 0. ... 0. 0. 0.]\n",
      " [0. 0. 0. ... 0. 0. 0.]\n",
      " [0. 0. 0. ... 0. 0. 0.]\n",
      " ...\n",
      " [0. 0. 0. ... 0. 0. 0.]\n",
      " [0. 0. 0. ... 0. 0. 0.]\n",
      " [0. 0. 0. ... 0. 0. 0.]]\n"
     ]
    }
   ],
   "source": [
    "# q(x,y)\n",
    "def q(x, y):\n",
    "    return 0.0\n",
    "\n",
    "q_matrix = np.zeros((x_n_grid, y_n_grid))\n",
    "\n",
    "for i in range(x_n_grid):\n",
    "    for j in range(y_n_grid):\n",
    "        if not area[i, j]:\n",
    "            q_matrix[i, j] = q(x[i], y[j])\n",
    "\n",
    "print(q_matrix)"
   ]
  },
  {
   "cell_type": "code",
   "execution_count": 17,
   "id": "629a2c4b",
   "metadata": {},
   "outputs": [
    {
     "name": "stdout",
     "output_type": "stream",
     "text": [
      "(7921, 7921)\n",
      "(7921, 1)\n"
     ]
    }
   ],
   "source": [
    "A = []\n",
    "b = []\n",
    "\n",
    "for i in range(x_n_grid):\n",
    "    for j in range(y_n_grid):\n",
    "        #points to be sought\n",
    "        if not area[i, j]:\n",
    "            # initialize Aij&bij\n",
    "            Aij = np.zeros(size)\n",
    "            bij = -0.25*h*h*q_matrix[i, j]\n",
    "            #Aij = 1\n",
    "            Aij[index_matrix[i, j]] = 1.0\n",
    "            #if boundary bij = value/4\n",
    "            #if to be sought Aij = -1/4\n",
    "            if area[i-1, j]:\n",
    "                bij += 0.25*value_matrix[i-1, j]\n",
    "            else:\n",
    "                Aij[index_matrix[i-1, j]] =-0.25\n",
    "            if area[i+1, j]:\n",
    "                bij += 0.25*value_matrix[i+1, j]\n",
    "            else:\n",
    "                Aij[index_matrix[i+1, j]] =-0.25\n",
    "            if area[i, j-1]:\n",
    "                bij += 0.25*value_matrix[i, j-1]\n",
    "            else:\n",
    "                Aij[index_matrix[i, j-1]] =-0.25\n",
    "            if area[i, j+1]:\n",
    "                bij += 0.25*value_matrix[i, j+1]\n",
    "            else:\n",
    "                Aij[index_matrix[i, j+1]] =-0.25\n",
    "            \n",
    "            A.append(Aij)\n",
    "            b.append([bij])\n",
    "\n",
    "A = np.array(A)\n",
    "b = np.array(b)\n",
    "print(np.shape(A))\n",
    "print(np.shape(b))"
   ]
  },
  {
   "cell_type": "code",
   "execution_count": 18,
   "id": "9f422056",
   "metadata": {},
   "outputs": [
    {
     "name": "stdout",
     "output_type": "stream",
     "text": [
      "942\n"
     ]
    }
   ],
   "source": [
    "omega = 7/4\n",
    "\n",
    "#X^{k+1} = S_w*X^{k}+f_w\n",
    "#S_w = (I+wD^{-1}L)^{-1}[(1-w)I-wD^{-1}U]\n",
    "#f_w = w(I+wD^{-1}L)\n",
    "\n",
    "D_inv = np.linalg.inv(np.diag(np.diag(A))) #numpy.diag()函数是以一维数组的形式返回方阵的对角线（或非对角线）元素，或将一维数组转换成方阵（非对角线元素为0）。两种功能角色转变取决于输入的v。\n",
    "U = np.triu(A, k=1)#上三角（不包括对角\n",
    "I= np.diag(np.ones(size))\n",
    "L = np.tril(A, k=-1)\n",
    "\n",
    "tmp = np.linalg.inv(I+omega*D_inv.dot(L))\n",
    "S_omega = tmp.dot((1-omega)*I-omega*D_inv.dot(U))\n",
    "f_omega = omega*tmp.dot(D_inv.dot(b))\n",
    "\n",
    "# Iteration initial value\n",
    "X0 = np.zeros((size, 1))\n",
    "\n",
    "X = S_omega.dot(X0) + f_omega\n",
    "\n",
    "# iterations\n",
    "k = 1\n",
    "\n",
    "while np.max(abs(X-X0)) > 1e-6:\n",
    "    X0 = X\n",
    "    X = S_omega.dot(X0) + f_omega\n",
    "    k += 1\n",
    "\n",
    "print(k)"
   ]
  },
  {
   "cell_type": "code",
   "execution_count": 19,
   "id": "167a3f8e",
   "metadata": {},
   "outputs": [
    {
     "data": {
      "image/png": "[encoded data removed]",
      "text/plain": [
       "<Figure size 500x500 with 1 Axes>"
      ]
     },
     "metadata": {},
     "output_type": "display_data"
    }
   ],
   "source": [
    "# picture\n",
    "for i in range(x_n_grid):\n",
    "    for j in range(y_n_grid):\n",
    "        if not area[i, j]:\n",
    "            value_matrix[i, j] = X[index_matrix[i, j], 0]\n",
    "            \n",
    "fig = plt.figure(figsize=(5, 5), dpi=100)\n",
    "plt.contourf(x, y, value_matrix.T)\n",
    "plt.show()"
   ]
  },
  {
   "cell_type": "code",
   "execution_count": 23,
   "id": "dadb41cc",
   "metadata": {},
   "outputs": [
    {
     "data": {
      "image/png": "[encoded data removed]",
      "text/plain": [
       "<Figure size 500x500 with 1 Axes>"
      ]
     },
     "metadata": {},
     "output_type": "display_data"
    }
   ],
   "source": [
    "def exact(x,y):\n",
    "    return np.sin(x)*np.sinh(y)/np.sinh(np.pi)\n",
    "\n",
    "exact_matrix = np.zeros((x_n_grid, y_n_grid))\n",
    "for i in range(x_n_grid):\n",
    "    for j in range(y_n_grid):\n",
    "            exact_matrix[i, j] = exact(x[i],y[j])\n",
    "            \n",
    "fig1 = plt.figure(figsize=(5, 5), dpi=100)\n",
    "plt.contourf(x, y, exact_matrix.T)\n",
    "plt.show()\n",
    "            "
   ]
  },
  {
   "cell_type": "code",
   "execution_count": null,
   "id": "04cb9fce",
   "metadata": {},
   "outputs": [],
   "source": []
  }
 ],
 "metadata": {
  "kernelspec": {
   "display_name": "Python 3 (ipykernel)",
   "language": "python",
   "name": "python3"
  },
  "language_info": {
   "codemirror_mode": {
    "name": "ipython",
    "version": 3
   },
   "file_extension": ".py",
   "mimetype": "text/x-python",
   "name": "python",
   "nbconvert_exporter": "python",
   "pygments_lexer": "ipython3",
   "version": "3.11.4"
  }
 },
 "nbformat": 4,
 "nbformat_minor": 5
}
